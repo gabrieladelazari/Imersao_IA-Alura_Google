{
  "nbformat": 4,
  "nbformat_minor": 0,
  "metadata": {
    "colab": {
      "provenance": [],
      "authorship_tag": "ABX9TyPG/YeupUx8DgEbUIYwaS3O",
      "include_colab_link": true
    },
    "kernelspec": {
      "name": "python3",
      "display_name": "Python 3"
    },
    "language_info": {
      "name": "python"
    }
  },
  "cells": [
    {
      "cell_type": "markdown",
      "metadata": {
        "id": "view-in-github",
        "colab_type": "text"
      },
      "source": [
        "<a href=\"https://colab.research.google.com/github/gabrieladelazari/Imersao_IA-Alura_Google/blob/main/Imers%C3%A3o_IA.ipynb\" target=\"_parent\"><img src=\"https://colab.research.google.com/assets/colab-badge.svg\" alt=\"Open In Colab\"/></a>"
      ]
    },
    {
      "cell_type": "code",
      "source": [
        "!pip install -q -U google-generativeai"
      ],
      "metadata": {
        "id": "Asbm00em6dqN"
      },
      "execution_count": null,
      "outputs": []
    },
    {
      "cell_type": "code",
      "source": [
        "import numpy as np\n",
        "import pandas as pd\n",
        "import google.generativeai as genai\n",
        "\n",
        "from google.colab import userdata\n",
        "api_key = userdata.get(\"SECRET_KEY\")\n",
        "genai.configure(api_key=api_key)"
      ],
      "metadata": {
        "id": "_RQofaSa6un6"
      },
      "execution_count": null,
      "outputs": []
    },
    {
      "cell_type": "code",
      "source": [
        "for m in genai.list_models():\n",
        "  if 'generateContent' in m.supported_generation_methods:\n",
        "    print(m.name)"
      ],
      "metadata": {
        "colab": {
          "base_uri": "https://localhost:8080/",
          "height": 139
        },
        "id": "BB_uDURE63HX",
        "outputId": "aab394b1-9584-407f-e145-acd5e62b35a5"
      },
      "execution_count": null,
      "outputs": [
        {
          "output_type": "stream",
          "name": "stdout",
          "text": [
            "models/gemini-1.0-pro\n",
            "models/gemini-1.0-pro-001\n",
            "models/gemini-1.0-pro-latest\n",
            "models/gemini-1.0-pro-vision-latest\n",
            "models/gemini-1.5-pro-latest\n",
            "models/gemini-pro\n",
            "models/gemini-pro-vision\n"
          ]
        }
      ]
    },
    {
      "cell_type": "code",
      "source": [
        "generation_config = {\n",
        "    \"candidate_count\": 1,\n",
        "    \"temperature\": 0.5,\n",
        "}"
      ],
      "metadata": {
        "id": "Bd-fbslV_Ayx"
      },
      "execution_count": null,
      "outputs": []
    },
    {
      "cell_type": "code",
      "source": [
        "safety_settings = {\n",
        "    \"HARASSMENT\": \"BLOCK_NONE\",\n",
        "    \"HATE\": \"BLOCK_NONE\",\n",
        "    \"SEXUAL\": \"BLOCK_NONE\",\n",
        "    \"DANGEROUS\": \"BLOCK_NONE\",\n",
        "}"
      ],
      "metadata": {
        "id": "TxSkEtxw_kik"
      },
      "execution_count": null,
      "outputs": []
    },
    {
      "cell_type": "code",
      "source": [
        "model = genai.GenerativeModel(model_name=\"gemini-1.0-pro\",\n",
        "                              generation_config=generation_config,\n",
        "                              safety_settings=safety_settings)"
      ],
      "metadata": {
        "id": "mwE2lzKaBU5c"
      },
      "execution_count": null,
      "outputs": []
    },
    {
      "cell_type": "code",
      "source": [
        "response = model.generate_content(\"Qual empresa criou a IA Gemini?\")\n",
        "print(response.text)"
      ],
      "metadata": {
        "colab": {
          "base_uri": "https://localhost:8080/",
          "height": 34
        },
        "id": "4gQ7_ARjCsJS",
        "outputId": "2f25cb62-ed35-4c33-9727-04f6e0c9308f"
      },
      "execution_count": null,
      "outputs": [
        {
          "output_type": "stream",
          "name": "stdout",
          "text": [
            "Google\n"
          ]
        }
      ]
    },
    {
      "cell_type": "code",
      "source": [
        "chat = model.start_chat(history=[])\n",
        "\n",
        "prompt = input('Esperando prompt: ')\n",
        "\n",
        "[ ]\n",
        "\n",
        "while prompt != \"fim\":\n",
        "  response = chat.send_message(prompt)\n",
        "  print(\"Resposta:\", response.text, '\\n\\n')\n",
        "  prompt = input('Esperando prompt: ')"
      ],
      "metadata": {
        "colab": {
          "base_uri": "https://localhost:8080/"
        },
        "id": "3GLacvK5NUyg",
        "outputId": "82104697-83f8-4172-b593-a1d60174cf01"
      },
      "execution_count": null,
      "outputs": [
        {
          "name": "stdout",
          "output_type": "stream",
          "text": [
            "Esperando prompt: fim\n"
          ]
        }
      ]
    },
    {
      "cell_type": "code",
      "source": [
        "chat"
      ],
      "metadata": {
        "id": "oo3RrFckOOIH",
        "colab": {
          "base_uri": "https://localhost:8080/"
        },
        "outputId": "71d014fc-b2fc-45ee-fce4-a13ea4b22537"
      },
      "execution_count": null,
      "outputs": [
        {
          "output_type": "execute_result",
          "data": {
            "text/plain": [
              "ChatSession(\n",
              "    model=genai.GenerativeModel(\n",
              "        model_name='models/gemini-1.0-pro',\n",
              "        generation_config={'candidate_count': 1, 'temperature': 0.5},\n",
              "        safety_settings={<HarmCategory.HARM_CATEGORY_HARASSMENT: 7>: <HarmBlockThreshold.BLOCK_NONE: 4>, <HarmCategory.HARM_CATEGORY_HATE_SPEECH: 8>: <HarmBlockThreshold.BLOCK_NONE: 4>, <HarmCategory.HARM_CATEGORY_SEXUALLY_EXPLICIT: 9>: <HarmBlockThreshold.BLOCK_NONE: 4>, <HarmCategory.HARM_CATEGORY_DANGEROUS_CONTENT: 10>: <HarmBlockThreshold.BLOCK_NONE: 4>},\n",
              "        tools=None,\n",
              "        system_instruction=None,\n",
              "    ),\n",
              "    history=[]\n",
              ")"
            ]
          },
          "metadata": {},
          "execution_count": 9
        }
      ]
    },
    {
      "cell_type": "code",
      "source": [
        "chat.history"
      ],
      "metadata": {
        "colab": {
          "base_uri": "https://localhost:8080/"
        },
        "id": "trfbAT_sOPSt",
        "outputId": "e6d094e8-fa36-414c-9bba-fde3f4c526c8"
      },
      "execution_count": null,
      "outputs": [
        {
          "output_type": "execute_result",
          "data": {
            "text/plain": [
              "[]"
            ]
          },
          "metadata": {},
          "execution_count": 10
        }
      ]
    },
    {
      "cell_type": "code",
      "source": [
        "for m in genai.list_models():\n",
        "  if 'embedContent' in m.supported_generation_methods:\n",
        "    print(m.name)"
      ],
      "metadata": {
        "colab": {
          "base_uri": "https://localhost:8080/",
          "height": 52
        },
        "id": "BVXHEXVDaZFc",
        "outputId": "e303d984-1ae9-42fd-edc0-356ecc379565"
      },
      "execution_count": null,
      "outputs": [
        {
          "output_type": "stream",
          "name": "stdout",
          "text": [
            "models/embedding-001\n",
            "models/text-embedding-004\n"
          ]
        }
      ]
    },
    {
      "cell_type": "code",
      "source": [
        "title = \"Estudos de IA\"\n",
        "sample_text = (\"Meus estudos de IA\")\n",
        "\n",
        "embeddings = genai.embed_content(model=\"models/embedding-001\",\n",
        "                                 content=sample_text,\n",
        "                                 title=title,\n",
        "                                 task_type=\"RETRIEVAL_DOCUMENT\")\n",
        "\n",
        "print(embeddings)"
      ],
      "metadata": {
        "colab": {
          "base_uri": "https://localhost:8080/",
          "height": 54
        },
        "id": "_3qvUBsSePNi",
        "outputId": "2c29e920-36ee-4b41-e356-39086f65b954"
      },
      "execution_count": null,
      "outputs": [
        {
          "output_type": "stream",
          "name": "stdout",
          "text": [
            "{'embedding': [0.020207083, -0.025896033, -0.03158581, -0.0032751688, 0.070763595, 0.014211903, 0.0041539944, -0.015178748, -0.013156421, 0.047180083, 0.018527994, 0.020602973, -0.038134616, 0.023416745, -0.0018022475, 0.0065154377, 0.0004976872, -0.0012465602, 0.001407246, -0.0064825574, -0.005489558, 0.017473308, -0.032472655, -0.022771912, 0.037286364, -0.0003932999, -0.011704807, -0.035268452, -0.0045010797, 0.009352828, -0.020034976, 0.022849923, -0.022196302, 0.05189143, -0.01042484, -0.040446457, -0.049949564, -0.002633829, 0.018147148, -0.00741747, -0.004273554, -0.045067504, -0.045151565, 0.011581594, -0.0058061252, -0.035304505, 0.02679385, 0.03762616, 0.03402387, -0.065754086, -0.005854788, 0.012377929, 0.09615681, -0.0396652, 0.013563204, -0.022105176, 0.039420787, -0.014401931, 0.022220748, -0.023619263, 0.0021287135, 1.8426643e-05, 0.010154412, 0.043090582, 0.02258025, -0.02415492, -0.034141794, -0.0038297956, -0.016742412, 0.0061338046, -0.026381927, -0.06468495, 0.031102661, -0.051843766, -0.017253025, -0.06274351, -0.0008361903, 0.03063065, 0.0019499213, 0.004667745, 0.029541481, -0.032526433, -0.062327873, -0.049782474, -0.055347987, 0.019621523, -0.014897034, 0.0071837795, 0.008815446, -0.010369101, -0.042813845, -0.013898135, 0.0072896914, -0.057583835, 0.0025659767, 0.037920356, -0.056550734, -0.014549744, 0.01199522, -0.04053625, 0.014120779, 0.02536461, -0.06304008, -0.009130327, 0.0056355917, 0.023900542, 0.011058698, 0.049658563, 0.013378029, 0.09731847, -0.011432701, 0.0070415903, 0.044210795, -0.0021697085, 0.043128375, -0.025531378, 0.012302621, 0.033441458, 0.023165666, 0.04353423, 0.022552852, 0.023821333, 0.09688598, -0.054447237, 0.009017685, 0.013901216, -0.005308983, 0.01494482, 0.030179113, -0.026439454, 0.026147159, -0.034600902, -0.016841562, 0.052841883, 0.07918166, 0.034630526, 0.015676022, 0.0030757764, 0.042150464, -0.010122657, 0.028291862, 0.055027198, 0.0111651365, 0.04654704, -0.043569367, 0.06179381, -0.05144721, -0.012271921, 0.084724315, 0.002796616, -0.00553159, -0.018885272, -0.07923566, 0.005320064, 0.087904684, -0.005192878, -0.0036888253, 0.05786047, 0.054628633, 0.0016964262, 0.008823034, -0.00070538494, 0.00341221, 0.026522338, -0.02236078, -0.026195966, 0.028224017, 0.008858635, 0.00062965404, 0.024649335, -0.005567963, 0.008446171, -0.05734299, -0.06628253, -0.021134425, -0.023248598, 0.0036925648, 0.008649299, -0.06389537, 0.029254805, 0.012434135, -0.060426336, 0.008350163, 0.045280263, 0.008865184, -0.033575553, 0.05544001, 0.008254191, -0.06858328, 0.04601387, 0.0018280263, 0.020581048, -0.042386565, -0.0385843, -0.049597323, 0.058446728, 0.019920018, 0.03080319, -0.010149803, -0.043423142, -0.011620612, 0.049546707, -0.00042516392, -0.02677603, -0.029564435, 0.016354663, 0.057541303, -0.0110631175, -0.026282879, 0.03188806, -0.088992536, 0.028206902, 0.010802222, -0.0019793531, 0.006161141, -0.018312069, -0.012426484, 0.029548567, 0.008356577, -0.031928644, -0.00864803, -0.023500022, -0.039384734, 0.018506316, 0.03411467, 0.015877966, -0.0625107, 0.052077226, -0.030324858, -0.09193299, 0.033691358, 0.057779998, 0.017129354, -0.0006215777, 0.07699611, -0.0056976727, 0.05243658, -0.0075901207, -0.010920007, 0.058049727, -0.045368247, 0.038083315, 0.037772126, 0.027966967, -0.026843991, 0.016267687, 0.012858271, 0.05273229, -0.0330277, 0.015809484, 0.024311826, -0.037270032, -0.025580786, 0.033969764, -0.07706075, 0.023941804, -0.05059099, 0.014990616, 0.020308627, -0.008370323, 0.061825287, 0.0014493226, 0.018951183, 0.008839417, -0.0041542985, -0.02261919, -0.037504137, -0.047608677, -0.009275346, 0.0055601224, 0.043245293, -0.01928423, 0.05124354, 0.024330346, 0.021923672, -0.0461728, 0.010100843, 0.058633406, 0.015344343, -0.032587875, 0.010818157, 0.048459623, 0.030292738, -0.016467497, -0.049395323, -0.00041862793, -0.022009548, -0.041821845, 0.043484744, -0.060621142, -0.049666353, 0.011884227, 0.012811652, 0.0026292482, -0.027162418, 0.0087766815, 0.0009675426, -0.0049510514, 0.06611103, -0.022183703, -0.0057360562, -0.08014351, 0.019066062, -0.03993987, -0.03906967, 0.0024962986, 0.012739892, -0.042651754, 0.046108235, 0.06700529, 0.0012866949, -0.052764162, -0.017611057, 0.0037315956, 0.06311963, 0.024666104, -0.019571183, -0.013676495, -0.023140902, -0.0010752392, 0.013862032, 0.066707216, 0.059902903, 0.0010915801, -0.043434463, 0.045733836, -0.014491882, 0.016697206, 4.6000012e-05, 0.017912377, -0.022954348, 0.029203959, -0.049734607, 0.03834327, -0.004825314, 0.02815207, -0.09848188, -0.007710111, -0.05088267, -0.011855055, 0.0051504825, 0.04281104, -0.0159858, -0.05595256, 0.009238576, 0.018327914, -0.034252066, 0.021726254, 0.0537887, 0.021388732, -0.007857749, 0.08408463, -0.036618914, -0.0057086744, 0.0020414374, -0.014909002, 0.05066676, 0.0028132051, 0.02802282, -0.05950819, -0.024463555, 0.01470897, -0.05396083, -0.013457492, -0.040389173, 0.001381825, -0.027213264, 0.0069862385, -0.008137318, 0.04156809, 0.042716842, -0.0067167548, 0.0046740696, -0.0058679106, 0.014673118, 0.01935343, 0.016868358, -0.072813615, 0.031933587, 0.047563605, -0.0049179276, -0.020612516, 0.057100333, 0.046127386, -0.011979454, -0.022533508, 0.055360965, 0.026812145, -0.012500552, 0.057820242, -0.004110126, 0.04457751, 0.07941075, 0.028164582, 0.020154951, -0.062655725, -0.027680133, -0.04258077, 0.032808777, 0.018410122, -0.021974463, -0.039099894, -0.03139553, -0.0117291035, -0.065664984, -0.006730737, -0.0010532084, -0.021261599, -0.02155003, 0.023579968, -0.0143122645, 0.008951528, 0.031114357, -0.031140054, -0.0681121, -0.03343145, 0.057052366, -0.002080236, 1.9607583e-05, 0.013589594, -0.015524779, -0.04188187, -0.0030417356, -0.037151977, -0.06731695, 0.026301812, 0.054752767, -0.019383732, 0.007149754, 0.024445213, 0.053932156, 0.0059675584, -0.0048010736, 0.015424941, 0.008428716, -0.008692978, 0.02309797, 0.010419503, -0.045949627, -0.024801426, 0.015888749, -0.022361357, 0.027389532, 0.0021226828, -0.060175326, -0.023070032, -0.030768123, -0.03689682, 0.003935332, -0.09535264, 0.043534063, -0.11448789, -0.04115335, -0.089425996, -0.03734634, -0.008961633, -0.004939883, 0.07847262, -0.018283667, 0.01980098, -0.02266974, -0.022729035, -0.030690853, -0.059859358, -0.0009535334, 0.012690252, -0.003539393, 0.023013916, 0.003528583, 0.020994533, 0.008168253, -0.09006718, 0.04145576, 0.0042009447, -0.025581988, -0.030729538, -0.040628884, 0.06422401, -0.03240491, 0.00095611194, 0.009233849, 0.0012516251, 0.036105003, 0.01274153, -0.041156467, -0.017053317, 0.018792503, -0.04077356, 0.008680105, 0.036572244, -0.017559936, 0.0123278005, -0.012667151, -0.03618854, -0.0048891352, -0.012044272, -0.03954303, 0.026537899, -0.006182733, 0.033767637, -0.0074746874, 0.0002906954, -0.007293571, -0.010587164, 0.09809743, -0.0563746, 0.022913788, -0.0012908728, -0.040157367, -0.013500345, 0.04247191, 0.030561872, 0.006200944, 0.01357054, 0.08879729, -0.013554359, 0.015074801, -0.02619232, -0.021359522, -0.006960726, 0.05449967, -0.019644408, -0.048870977, 0.0075424477, 0.014280671, -0.075834446, 0.0051890044, -0.005036283, -0.06589049, 0.0066817603, -0.035595004, 0.065961726, -0.061648622, -0.011038591, 0.03438081, 0.014356118, 0.055834655, 0.014967406, 0.00527744, -0.04809108, 0.0284046, -0.04857777, 0.024759412, -0.0054126815, -0.06618941, 0.017036669, -0.01481994, -0.09334785, -0.003175589, -0.031820476, -0.016874872, 0.008478484, 0.02683765, -0.029681686, -0.0034547567, 0.004242506, -0.01765552, -0.021489484, 0.012868934, 0.026966272, 0.028985696, 0.016252367, -0.0032745486, 0.012785633, 0.057973232, -0.009259324, -0.031431776, -0.029859453, 0.05571826, -0.033836626, 0.0004924386, 0.03612398, 0.030748075, 0.013616513, 0.015596032, -0.007066608, -0.034058534, 0.019417388, -0.02934896, -0.019546263, 0.04285558, -0.007564304, 0.038331177, 0.043814614, 0.017725432, -0.027889574, 0.01706619, 0.08984545, 0.036722478, 0.014656354, -0.048584122, 0.039077394, 0.0035962642, 0.0039466494, 0.027334368, 0.022255547, 0.02351276, -0.03127664, -0.05341225, 0.011834508, -0.015515742, -0.028943887, 0.06409358, -0.024423236, 0.03933267, 0.009541849, -0.029804321, 0.01189236, -0.00322564, 0.049356844, 0.008269986, -0.03876156, 0.057441715, -0.033921473, -0.043839853, -0.016169732, 0.044099133, 0.05670178, -0.02873588, -0.03502667, -0.013573135, 0.03162588, 0.02363441, 0.0031322215, 0.01209046, -0.045266148, -0.04036516, 0.007246689, 0.08201376, 0.034786206, 0.080921695, 0.045389865, 0.002614955, -0.04303318, -0.044205263, -0.0015726157, -0.0042602047, 0.005218476, 0.025295079, 0.0024010348, -0.056311056, 0.015558936, 0.012652376, -0.024643067, -0.026503578, 0.042646468, 0.00048792368, -0.058271986, -0.10988117, -0.05948207, 0.01443542, 0.0027415908, -0.0070443354, -0.03985155, 0.062921464, 0.02834402, -0.013078382, -0.039685626, 0.014811804, 0.012620258, -0.056928787, 0.014782885, 0.028210297, -0.022500815, -0.021062253, -0.031471897, -0.009114468, -0.085409276, -0.002594445, 0.07133571, -0.043049924, 0.026875423, 0.054008026, -0.03266756, 0.017095884, -0.0034367684, -0.01556381, 0.0633578, 0.02725251, 0.0002793802, -0.041990463, -0.01307462, -0.01962567, 0.0067053153, 0.0034899886, 0.03225358, 0.07388042, -0.03463852, -0.029588914, -0.05834462, 0.0015345628, -0.025144255, 0.028950728, 0.040407375, 0.029672237, -0.006238508, 0.008007621, -0.058511674, 0.032365084, 0.008136786, 0.011009392, -0.040459916, 0.026152903, 0.02918739, -0.020681053, -0.04200778, 0.01873067, 0.0042344523, 0.009926444, 0.054833174, 0.018321063, -0.04335865, -0.052706607, 0.07903274, -0.0033051497, -0.034581725, -0.0043834825, 0.028064512, -0.008142931, 0.03684946, 0.03519152, 0.00708876, 0.0069881063, -0.037261683, -0.02581225, 0.04256973, -0.032503996, -0.001881776, -0.04362224, -0.012559624, 0.114838056, -0.006575998, -0.049228765, 0.0565212, -0.04628504, 0.07281112, -0.00465952, 0.029903749, -0.01876716, -0.07211772, -0.044226293, 0.005128115, 0.0038112307, 0.070109524, -0.0015497404, -0.036172163, -0.011293929, -0.020543322, -0.047912765, -0.08234576, -0.02325413, -0.001340974, 0.0013398866, 0.06682834, 0.028909983, 0.004069693, -0.020621004, -0.04677879, 0.023985231, -0.024365263, -0.03156709, 0.0021631247, 0.026436308, 0.0012507916, 0.051801845, 0.05264514, -0.04132166, 0.024207441]}\n"
          ]
        }
      ]
    },
    {
      "cell_type": "code",
      "source": [
        "DOCUMENT1 = {\n",
        "    \"Título\": \"Operação do sistema de controle climático\",\n",
        "    \"Conteúdo\": \"O Googlecar tem um sistema de controle climático que permite ajustar a temperatura e o fluxo de ar no carro. Para operar o sistema de controle climático, use os botões e botões localizados no console central.  Temperatura: O botão de temperatura controla a temperatura dentro do carro. Gire o botão no sentido horário para aumentar a temperatura ou no sentido anti-horário para diminuir a temperatura. Fluxo de ar: O botão de fluxo de ar controla a quantidade de fluxo de ar dentro do carro. Gire o botão no sentido horário para aumentar o fluxo de ar ou no sentido anti-horário para diminuir o fluxo de ar. Velocidade do ventilador: O botão de velocidade do ventilador controla a velocidade do ventilador. Gire o botão no sentido horário para aumentar a velocidade do ventilador ou no sentido anti-horário para diminuir a velocidade do ventilador. Modo: O botão de modo permite que você selecione o modo desejado. Os modos disponíveis são: Auto: O carro ajustará automaticamente a temperatura e o fluxo de ar para manter um nível confortável. Cool (Frio): O carro soprará ar frio para dentro do carro. Heat: O carro soprará ar quente para dentro do carro. Defrost (Descongelamento): O carro soprará ar quente no para-brisa para descongelá-lo.\"}\n",
        "\n",
        "DOCUMENT2 = {\n",
        "    \"Título\": \"Touchscreen\",\n",
        "    \"Conteúdo\": \"O seu Googlecar tem uma grande tela sensível ao toque que fornece acesso a uma variedade de recursos, incluindo navegação, entretenimento e controle climático. Para usar a tela sensível ao toque, basta tocar no ícone desejado.  Por exemplo, você pode tocar no ícone \\\"Navigation\\\" (Navegação) para obter direções para o seu destino ou tocar no ícone \\\"Music\\\" (Música) para reproduzir suas músicas favoritas.\"}\n",
        "\n",
        "DOCUMENT3 = {\n",
        "    \"Título\": \"Mudança de marchas\",\n",
        "    \"Conteúdo\": \"Seu Googlecar tem uma transmissão automática. Para trocar as marchas, basta mover a alavanca de câmbio para a posição desejada.  Park (Estacionar): Essa posição é usada quando você está estacionado. As rodas são travadas e o carro não pode se mover. Marcha à ré: Essa posição é usada para dar ré. Neutro: Essa posição é usada quando você está parado em um semáforo ou no trânsito. O carro não está em marcha e não se moverá a menos que você pressione o pedal do acelerador. Drive (Dirigir): Essa posição é usada para dirigir para frente. Low: essa posição é usada para dirigir na neve ou em outras condições escorregadias.\"}\n",
        "\n",
        "documents = [DOCUMENT1, DOCUMENT2, DOCUMENT3]"
      ],
      "metadata": {
        "id": "2iq9Dp3WeWa1"
      },
      "execution_count": null,
      "outputs": []
    },
    {
      "cell_type": "code",
      "source": [
        "df = pd.DataFrame(documents)\n",
        "df.columns = [\"Titulo\", \"Conteudo\"]\n",
        "df"
      ],
      "metadata": {
        "colab": {
          "base_uri": "https://localhost:8080/",
          "height": 143
        },
        "id": "rsXzRJguaztB",
        "outputId": "e9f540a7-88f4-49f5-d61c-88c31bc65c64"
      },
      "execution_count": null,
      "outputs": [
        {
          "output_type": "execute_result",
          "data": {
            "text/plain": [
              "                                      Titulo  \\\n",
              "0  Operação do sistema de controle climático   \n",
              "1                                Touchscreen   \n",
              "2                         Mudança de marchas   \n",
              "\n",
              "                                            Conteudo  \n",
              "0  O Googlecar tem um sistema de controle climáti...  \n",
              "1  O seu Googlecar tem uma grande tela sensível a...  \n",
              "2  Seu Googlecar tem uma transmissão automática. ...  "
            ],
            "text/html": [
              "\n",
              "  <div id=\"df-006eed30-4696-49b4-a727-5992ed25f7a2\" class=\"colab-df-container\">\n",
              "    <div>\n",
              "<style scoped>\n",
              "    .dataframe tbody tr th:only-of-type {\n",
              "        vertical-align: middle;\n",
              "    }\n",
              "\n",
              "    .dataframe tbody tr th {\n",
              "        vertical-align: top;\n",
              "    }\n",
              "\n",
              "    .dataframe thead th {\n",
              "        text-align: right;\n",
              "    }\n",
              "</style>\n",
              "<table border=\"1\" class=\"dataframe\">\n",
              "  <thead>\n",
              "    <tr style=\"text-align: right;\">\n",
              "      <th></th>\n",
              "      <th>Titulo</th>\n",
              "      <th>Conteudo</th>\n",
              "    </tr>\n",
              "  </thead>\n",
              "  <tbody>\n",
              "    <tr>\n",
              "      <th>0</th>\n",
              "      <td>Operação do sistema de controle climático</td>\n",
              "      <td>O Googlecar tem um sistema de controle climáti...</td>\n",
              "    </tr>\n",
              "    <tr>\n",
              "      <th>1</th>\n",
              "      <td>Touchscreen</td>\n",
              "      <td>O seu Googlecar tem uma grande tela sensível a...</td>\n",
              "    </tr>\n",
              "    <tr>\n",
              "      <th>2</th>\n",
              "      <td>Mudança de marchas</td>\n",
              "      <td>Seu Googlecar tem uma transmissão automática. ...</td>\n",
              "    </tr>\n",
              "  </tbody>\n",
              "</table>\n",
              "</div>\n",
              "    <div class=\"colab-df-buttons\">\n",
              "\n",
              "  <div class=\"colab-df-container\">\n",
              "    <button class=\"colab-df-convert\" onclick=\"convertToInteractive('df-006eed30-4696-49b4-a727-5992ed25f7a2')\"\n",
              "            title=\"Convert this dataframe to an interactive table.\"\n",
              "            style=\"display:none;\">\n",
              "\n",
              "  <svg xmlns=\"http://www.w3.org/2000/svg\" height=\"24px\" viewBox=\"0 -960 960 960\">\n",
              "    <path d=\"M120-120v-720h720v720H120Zm60-500h600v-160H180v160Zm220 220h160v-160H400v160Zm0 220h160v-160H400v160ZM180-400h160v-160H180v160Zm440 0h160v-160H620v160ZM180-180h160v-160H180v160Zm440 0h160v-160H620v160Z\"/>\n",
              "  </svg>\n",
              "    </button>\n",
              "\n",
              "  <style>\n",
              "    .colab-df-container {\n",
              "      display:flex;\n",
              "      gap: 12px;\n",
              "    }\n",
              "\n",
              "    .colab-df-convert {\n",
              "      background-color: #E8F0FE;\n",
              "      border: none;\n",
              "      border-radius: 50%;\n",
              "      cursor: pointer;\n",
              "      display: none;\n",
              "      fill: #1967D2;\n",
              "      height: 32px;\n",
              "      padding: 0 0 0 0;\n",
              "      width: 32px;\n",
              "    }\n",
              "\n",
              "    .colab-df-convert:hover {\n",
              "      background-color: #E2EBFA;\n",
              "      box-shadow: 0px 1px 2px rgba(60, 64, 67, 0.3), 0px 1px 3px 1px rgba(60, 64, 67, 0.15);\n",
              "      fill: #174EA6;\n",
              "    }\n",
              "\n",
              "    .colab-df-buttons div {\n",
              "      margin-bottom: 4px;\n",
              "    }\n",
              "\n",
              "    [theme=dark] .colab-df-convert {\n",
              "      background-color: #3B4455;\n",
              "      fill: #D2E3FC;\n",
              "    }\n",
              "\n",
              "    [theme=dark] .colab-df-convert:hover {\n",
              "      background-color: #434B5C;\n",
              "      box-shadow: 0px 1px 3px 1px rgba(0, 0, 0, 0.15);\n",
              "      filter: drop-shadow(0px 1px 2px rgba(0, 0, 0, 0.3));\n",
              "      fill: #FFFFFF;\n",
              "    }\n",
              "  </style>\n",
              "\n",
              "    <script>\n",
              "      const buttonEl =\n",
              "        document.querySelector('#df-006eed30-4696-49b4-a727-5992ed25f7a2 button.colab-df-convert');\n",
              "      buttonEl.style.display =\n",
              "        google.colab.kernel.accessAllowed ? 'block' : 'none';\n",
              "\n",
              "      async function convertToInteractive(key) {\n",
              "        const element = document.querySelector('#df-006eed30-4696-49b4-a727-5992ed25f7a2');\n",
              "        const dataTable =\n",
              "          await google.colab.kernel.invokeFunction('convertToInteractive',\n",
              "                                                    [key], {});\n",
              "        if (!dataTable) return;\n",
              "\n",
              "        const docLinkHtml = 'Like what you see? Visit the ' +\n",
              "          '<a target=\"_blank\" href=https://colab.research.google.com/notebooks/data_table.ipynb>data table notebook</a>'\n",
              "          + ' to learn more about interactive tables.';\n",
              "        element.innerHTML = '';\n",
              "        dataTable['output_type'] = 'display_data';\n",
              "        await google.colab.output.renderOutput(dataTable, element);\n",
              "        const docLink = document.createElement('div');\n",
              "        docLink.innerHTML = docLinkHtml;\n",
              "        element.appendChild(docLink);\n",
              "      }\n",
              "    </script>\n",
              "  </div>\n",
              "\n",
              "\n",
              "<div id=\"df-ff592cba-3bb3-4546-bfce-33d14b7e475e\">\n",
              "  <button class=\"colab-df-quickchart\" onclick=\"quickchart('df-ff592cba-3bb3-4546-bfce-33d14b7e475e')\"\n",
              "            title=\"Suggest charts\"\n",
              "            style=\"display:none;\">\n",
              "\n",
              "<svg xmlns=\"http://www.w3.org/2000/svg\" height=\"24px\"viewBox=\"0 0 24 24\"\n",
              "     width=\"24px\">\n",
              "    <g>\n",
              "        <path d=\"M19 3H5c-1.1 0-2 .9-2 2v14c0 1.1.9 2 2 2h14c1.1 0 2-.9 2-2V5c0-1.1-.9-2-2-2zM9 17H7v-7h2v7zm4 0h-2V7h2v10zm4 0h-2v-4h2v4z\"/>\n",
              "    </g>\n",
              "</svg>\n",
              "  </button>\n",
              "\n",
              "<style>\n",
              "  .colab-df-quickchart {\n",
              "      --bg-color: #E8F0FE;\n",
              "      --fill-color: #1967D2;\n",
              "      --hover-bg-color: #E2EBFA;\n",
              "      --hover-fill-color: #174EA6;\n",
              "      --disabled-fill-color: #AAA;\n",
              "      --disabled-bg-color: #DDD;\n",
              "  }\n",
              "\n",
              "  [theme=dark] .colab-df-quickchart {\n",
              "      --bg-color: #3B4455;\n",
              "      --fill-color: #D2E3FC;\n",
              "      --hover-bg-color: #434B5C;\n",
              "      --hover-fill-color: #FFFFFF;\n",
              "      --disabled-bg-color: #3B4455;\n",
              "      --disabled-fill-color: #666;\n",
              "  }\n",
              "\n",
              "  .colab-df-quickchart {\n",
              "    background-color: var(--bg-color);\n",
              "    border: none;\n",
              "    border-radius: 50%;\n",
              "    cursor: pointer;\n",
              "    display: none;\n",
              "    fill: var(--fill-color);\n",
              "    height: 32px;\n",
              "    padding: 0;\n",
              "    width: 32px;\n",
              "  }\n",
              "\n",
              "  .colab-df-quickchart:hover {\n",
              "    background-color: var(--hover-bg-color);\n",
              "    box-shadow: 0 1px 2px rgba(60, 64, 67, 0.3), 0 1px 3px 1px rgba(60, 64, 67, 0.15);\n",
              "    fill: var(--button-hover-fill-color);\n",
              "  }\n",
              "\n",
              "  .colab-df-quickchart-complete:disabled,\n",
              "  .colab-df-quickchart-complete:disabled:hover {\n",
              "    background-color: var(--disabled-bg-color);\n",
              "    fill: var(--disabled-fill-color);\n",
              "    box-shadow: none;\n",
              "  }\n",
              "\n",
              "  .colab-df-spinner {\n",
              "    border: 2px solid var(--fill-color);\n",
              "    border-color: transparent;\n",
              "    border-bottom-color: var(--fill-color);\n",
              "    animation:\n",
              "      spin 1s steps(1) infinite;\n",
              "  }\n",
              "\n",
              "  @keyframes spin {\n",
              "    0% {\n",
              "      border-color: transparent;\n",
              "      border-bottom-color: var(--fill-color);\n",
              "      border-left-color: var(--fill-color);\n",
              "    }\n",
              "    20% {\n",
              "      border-color: transparent;\n",
              "      border-left-color: var(--fill-color);\n",
              "      border-top-color: var(--fill-color);\n",
              "    }\n",
              "    30% {\n",
              "      border-color: transparent;\n",
              "      border-left-color: var(--fill-color);\n",
              "      border-top-color: var(--fill-color);\n",
              "      border-right-color: var(--fill-color);\n",
              "    }\n",
              "    40% {\n",
              "      border-color: transparent;\n",
              "      border-right-color: var(--fill-color);\n",
              "      border-top-color: var(--fill-color);\n",
              "    }\n",
              "    60% {\n",
              "      border-color: transparent;\n",
              "      border-right-color: var(--fill-color);\n",
              "    }\n",
              "    80% {\n",
              "      border-color: transparent;\n",
              "      border-right-color: var(--fill-color);\n",
              "      border-bottom-color: var(--fill-color);\n",
              "    }\n",
              "    90% {\n",
              "      border-color: transparent;\n",
              "      border-bottom-color: var(--fill-color);\n",
              "    }\n",
              "  }\n",
              "</style>\n",
              "\n",
              "  <script>\n",
              "    async function quickchart(key) {\n",
              "      const quickchartButtonEl =\n",
              "        document.querySelector('#' + key + ' button');\n",
              "      quickchartButtonEl.disabled = true;  // To prevent multiple clicks.\n",
              "      quickchartButtonEl.classList.add('colab-df-spinner');\n",
              "      try {\n",
              "        const charts = await google.colab.kernel.invokeFunction(\n",
              "            'suggestCharts', [key], {});\n",
              "      } catch (error) {\n",
              "        console.error('Error during call to suggestCharts:', error);\n",
              "      }\n",
              "      quickchartButtonEl.classList.remove('colab-df-spinner');\n",
              "      quickchartButtonEl.classList.add('colab-df-quickchart-complete');\n",
              "    }\n",
              "    (() => {\n",
              "      let quickchartButtonEl =\n",
              "        document.querySelector('#df-ff592cba-3bb3-4546-bfce-33d14b7e475e button');\n",
              "      quickchartButtonEl.style.display =\n",
              "        google.colab.kernel.accessAllowed ? 'block' : 'none';\n",
              "    })();\n",
              "  </script>\n",
              "</div>\n",
              "\n",
              "  <div id=\"id_63d82b47-fbbc-4059-a221-a1bd8d08550f\">\n",
              "    <style>\n",
              "      .colab-df-generate {\n",
              "        background-color: #E8F0FE;\n",
              "        border: none;\n",
              "        border-radius: 50%;\n",
              "        cursor: pointer;\n",
              "        display: none;\n",
              "        fill: #1967D2;\n",
              "        height: 32px;\n",
              "        padding: 0 0 0 0;\n",
              "        width: 32px;\n",
              "      }\n",
              "\n",
              "      .colab-df-generate:hover {\n",
              "        background-color: #E2EBFA;\n",
              "        box-shadow: 0px 1px 2px rgba(60, 64, 67, 0.3), 0px 1px 3px 1px rgba(60, 64, 67, 0.15);\n",
              "        fill: #174EA6;\n",
              "      }\n",
              "\n",
              "      [theme=dark] .colab-df-generate {\n",
              "        background-color: #3B4455;\n",
              "        fill: #D2E3FC;\n",
              "      }\n",
              "\n",
              "      [theme=dark] .colab-df-generate:hover {\n",
              "        background-color: #434B5C;\n",
              "        box-shadow: 0px 1px 3px 1px rgba(0, 0, 0, 0.15);\n",
              "        filter: drop-shadow(0px 1px 2px rgba(0, 0, 0, 0.3));\n",
              "        fill: #FFFFFF;\n",
              "      }\n",
              "    </style>\n",
              "    <button class=\"colab-df-generate\" onclick=\"generateWithVariable('df')\"\n",
              "            title=\"Generate code using this dataframe.\"\n",
              "            style=\"display:none;\">\n",
              "\n",
              "  <svg xmlns=\"http://www.w3.org/2000/svg\" height=\"24px\"viewBox=\"0 0 24 24\"\n",
              "       width=\"24px\">\n",
              "    <path d=\"M7,19H8.4L18.45,9,17,7.55,7,17.6ZM5,21V16.75L18.45,3.32a2,2,0,0,1,2.83,0l1.4,1.43a1.91,1.91,0,0,1,.58,1.4,1.91,1.91,0,0,1-.58,1.4L9.25,21ZM18.45,9,17,7.55Zm-12,3A5.31,5.31,0,0,0,4.9,8.1,5.31,5.31,0,0,0,1,6.5,5.31,5.31,0,0,0,4.9,4.9,5.31,5.31,0,0,0,6.5,1,5.31,5.31,0,0,0,8.1,4.9,5.31,5.31,0,0,0,12,6.5,5.46,5.46,0,0,0,6.5,12Z\"/>\n",
              "  </svg>\n",
              "    </button>\n",
              "    <script>\n",
              "      (() => {\n",
              "      const buttonEl =\n",
              "        document.querySelector('#id_63d82b47-fbbc-4059-a221-a1bd8d08550f button.colab-df-generate');\n",
              "      buttonEl.style.display =\n",
              "        google.colab.kernel.accessAllowed ? 'block' : 'none';\n",
              "\n",
              "      buttonEl.onclick = () => {\n",
              "        google.colab.notebook.generateWithVariable('df');\n",
              "      }\n",
              "      })();\n",
              "    </script>\n",
              "  </div>\n",
              "\n",
              "    </div>\n",
              "  </div>\n"
            ],
            "application/vnd.google.colaboratory.intrinsic+json": {
              "type": "dataframe",
              "variable_name": "df",
              "summary": "{\n  \"name\": \"df\",\n  \"rows\": 3,\n  \"fields\": [\n    {\n      \"column\": \"Titulo\",\n      \"properties\": {\n        \"dtype\": \"string\",\n        \"num_unique_values\": 3,\n        \"samples\": [\n          \"Opera\\u00e7\\u00e3o do sistema de controle clim\\u00e1tico\",\n          \"Touchscreen\",\n          \"Mudan\\u00e7a de marchas\"\n        ],\n        \"semantic_type\": \"\",\n        \"description\": \"\"\n      }\n    },\n    {\n      \"column\": \"Conteudo\",\n      \"properties\": {\n        \"dtype\": \"string\",\n        \"num_unique_values\": 3,\n        \"samples\": [\n          \"O Googlecar tem um sistema de controle clim\\u00e1tico que permite ajustar a temperatura e o fluxo de ar no carro. Para operar o sistema de controle clim\\u00e1tico, use os bot\\u00f5es e bot\\u00f5es localizados no console central.  Temperatura: O bot\\u00e3o de temperatura controla a temperatura dentro do carro. Gire o bot\\u00e3o no sentido hor\\u00e1rio para aumentar a temperatura ou no sentido anti-hor\\u00e1rio para diminuir a temperatura. Fluxo de ar: O bot\\u00e3o de fluxo de ar controla a quantidade de fluxo de ar dentro do carro. Gire o bot\\u00e3o no sentido hor\\u00e1rio para aumentar o fluxo de ar ou no sentido anti-hor\\u00e1rio para diminuir o fluxo de ar. Velocidade do ventilador: O bot\\u00e3o de velocidade do ventilador controla a velocidade do ventilador. Gire o bot\\u00e3o no sentido hor\\u00e1rio para aumentar a velocidade do ventilador ou no sentido anti-hor\\u00e1rio para diminuir a velocidade do ventilador. Modo: O bot\\u00e3o de modo permite que voc\\u00ea selecione o modo desejado. Os modos dispon\\u00edveis s\\u00e3o: Auto: O carro ajustar\\u00e1 automaticamente a temperatura e o fluxo de ar para manter um n\\u00edvel confort\\u00e1vel. Cool (Frio): O carro soprar\\u00e1 ar frio para dentro do carro. Heat: O carro soprar\\u00e1 ar quente para dentro do carro. Defrost (Descongelamento): O carro soprar\\u00e1 ar quente no para-brisa para descongel\\u00e1-lo.\",\n          \"O seu Googlecar tem uma grande tela sens\\u00edvel ao toque que fornece acesso a uma variedade de recursos, incluindo navega\\u00e7\\u00e3o, entretenimento e controle clim\\u00e1tico. Para usar a tela sens\\u00edvel ao toque, basta tocar no \\u00edcone desejado.  Por exemplo, voc\\u00ea pode tocar no \\u00edcone \\\"Navigation\\\" (Navega\\u00e7\\u00e3o) para obter dire\\u00e7\\u00f5es para o seu destino ou tocar no \\u00edcone \\\"Music\\\" (M\\u00fasica) para reproduzir suas m\\u00fasicas favoritas.\",\n          \"Seu Googlecar tem uma transmiss\\u00e3o autom\\u00e1tica. Para trocar as marchas, basta mover a alavanca de c\\u00e2mbio para a posi\\u00e7\\u00e3o desejada.  Park (Estacionar): Essa posi\\u00e7\\u00e3o \\u00e9 usada quando voc\\u00ea est\\u00e1 estacionado. As rodas s\\u00e3o travadas e o carro n\\u00e3o pode se mover. Marcha \\u00e0 r\\u00e9: Essa posi\\u00e7\\u00e3o \\u00e9 usada para dar r\\u00e9. Neutro: Essa posi\\u00e7\\u00e3o \\u00e9 usada quando voc\\u00ea est\\u00e1 parado em um sem\\u00e1foro ou no tr\\u00e2nsito. O carro n\\u00e3o est\\u00e1 em marcha e n\\u00e3o se mover\\u00e1 a menos que voc\\u00ea pressione o pedal do acelerador. Drive (Dirigir): Essa posi\\u00e7\\u00e3o \\u00e9 usada para dirigir para frente. Low: essa posi\\u00e7\\u00e3o \\u00e9 usada para dirigir na neve ou em outras condi\\u00e7\\u00f5es escorregadias.\"\n        ],\n        \"semantic_type\": \"\",\n        \"description\": \"\"\n      }\n    }\n  ]\n}"
            }
          },
          "metadata": {},
          "execution_count": 56
        }
      ]
    },
    {
      "cell_type": "code",
      "source": [
        "model = \"models/embedding-001\""
      ],
      "metadata": {
        "id": "S9jqpCxSbpSS"
      },
      "execution_count": null,
      "outputs": []
    },
    {
      "cell_type": "code",
      "source": [
        "def embed_fn(title, text):\n",
        "  return genai.embed_content(model=model,\n",
        "                                 content=text,\n",
        "                                 title=title,\n",
        "                                 task_type=\"RETRIEVAL_DOCUMENT\")[\"embedding\"]"
      ],
      "metadata": {
        "id": "pYjmQ4Z7c_a8"
      },
      "execution_count": null,
      "outputs": []
    },
    {
      "cell_type": "code",
      "source": [
        "df[\"Embeddings\"] = df.apply(lambda row: embed_fn(row[\"Titulo\"], row[\"Conteudo\"]), axis=1)\n",
        "df"
      ],
      "metadata": {
        "colab": {
          "base_uri": "https://localhost:8080/",
          "height": 143
        },
        "id": "LRSJWTxjps86",
        "outputId": "5b330290-1451-4d07-ce57-2ce9a0d423e2"
      },
      "execution_count": null,
      "outputs": [
        {
          "output_type": "execute_result",
          "data": {
            "text/plain": [
              "                                      Titulo  \\\n",
              "0  Operação do sistema de controle climático   \n",
              "1                                Touchscreen   \n",
              "2                         Mudança de marchas   \n",
              "\n",
              "                                            Conteudo  \\\n",
              "0  O Googlecar tem um sistema de controle climáti...   \n",
              "1  O seu Googlecar tem uma grande tela sensível a...   \n",
              "2  Seu Googlecar tem uma transmissão automática. ...   \n",
              "\n",
              "                                          Embeddings  \n",
              "0  [-0.011010795, -0.026731547, -0.036728486, 0.0...  \n",
              "1  [0.015715627, -0.040427547, 0.011117627, 0.002...  \n",
              "2  [-0.009390755, -0.022475218, -0.0024638234, 0....  "
            ],
            "text/html": [
              "\n",
              "  <div id=\"df-2c05fd7a-3924-43df-9baf-0226d38dee35\" class=\"colab-df-container\">\n",
              "    <div>\n",
              "<style scoped>\n",
              "    .dataframe tbody tr th:only-of-type {\n",
              "        vertical-align: middle;\n",
              "    }\n",
              "\n",
              "    .dataframe tbody tr th {\n",
              "        vertical-align: top;\n",
              "    }\n",
              "\n",
              "    .dataframe thead th {\n",
              "        text-align: right;\n",
              "    }\n",
              "</style>\n",
              "<table border=\"1\" class=\"dataframe\">\n",
              "  <thead>\n",
              "    <tr style=\"text-align: right;\">\n",
              "      <th></th>\n",
              "      <th>Titulo</th>\n",
              "      <th>Conteudo</th>\n",
              "      <th>Embeddings</th>\n",
              "    </tr>\n",
              "  </thead>\n",
              "  <tbody>\n",
              "    <tr>\n",
              "      <th>0</th>\n",
              "      <td>Operação do sistema de controle climático</td>\n",
              "      <td>O Googlecar tem um sistema de controle climáti...</td>\n",
              "      <td>[-0.011010795, -0.026731547, -0.036728486, 0.0...</td>\n",
              "    </tr>\n",
              "    <tr>\n",
              "      <th>1</th>\n",
              "      <td>Touchscreen</td>\n",
              "      <td>O seu Googlecar tem uma grande tela sensível a...</td>\n",
              "      <td>[0.015715627, -0.040427547, 0.011117627, 0.002...</td>\n",
              "    </tr>\n",
              "    <tr>\n",
              "      <th>2</th>\n",
              "      <td>Mudança de marchas</td>\n",
              "      <td>Seu Googlecar tem uma transmissão automática. ...</td>\n",
              "      <td>[-0.009390755, -0.022475218, -0.0024638234, 0....</td>\n",
              "    </tr>\n",
              "  </tbody>\n",
              "</table>\n",
              "</div>\n",
              "    <div class=\"colab-df-buttons\">\n",
              "\n",
              "  <div class=\"colab-df-container\">\n",
              "    <button class=\"colab-df-convert\" onclick=\"convertToInteractive('df-2c05fd7a-3924-43df-9baf-0226d38dee35')\"\n",
              "            title=\"Convert this dataframe to an interactive table.\"\n",
              "            style=\"display:none;\">\n",
              "\n",
              "  <svg xmlns=\"http://www.w3.org/2000/svg\" height=\"24px\" viewBox=\"0 -960 960 960\">\n",
              "    <path d=\"M120-120v-720h720v720H120Zm60-500h600v-160H180v160Zm220 220h160v-160H400v160Zm0 220h160v-160H400v160ZM180-400h160v-160H180v160Zm440 0h160v-160H620v160ZM180-180h160v-160H180v160Zm440 0h160v-160H620v160Z\"/>\n",
              "  </svg>\n",
              "    </button>\n",
              "\n",
              "  <style>\n",
              "    .colab-df-container {\n",
              "      display:flex;\n",
              "      gap: 12px;\n",
              "    }\n",
              "\n",
              "    .colab-df-convert {\n",
              "      background-color: #E8F0FE;\n",
              "      border: none;\n",
              "      border-radius: 50%;\n",
              "      cursor: pointer;\n",
              "      display: none;\n",
              "      fill: #1967D2;\n",
              "      height: 32px;\n",
              "      padding: 0 0 0 0;\n",
              "      width: 32px;\n",
              "    }\n",
              "\n",
              "    .colab-df-convert:hover {\n",
              "      background-color: #E2EBFA;\n",
              "      box-shadow: 0px 1px 2px rgba(60, 64, 67, 0.3), 0px 1px 3px 1px rgba(60, 64, 67, 0.15);\n",
              "      fill: #174EA6;\n",
              "    }\n",
              "\n",
              "    .colab-df-buttons div {\n",
              "      margin-bottom: 4px;\n",
              "    }\n",
              "\n",
              "    [theme=dark] .colab-df-convert {\n",
              "      background-color: #3B4455;\n",
              "      fill: #D2E3FC;\n",
              "    }\n",
              "\n",
              "    [theme=dark] .colab-df-convert:hover {\n",
              "      background-color: #434B5C;\n",
              "      box-shadow: 0px 1px 3px 1px rgba(0, 0, 0, 0.15);\n",
              "      filter: drop-shadow(0px 1px 2px rgba(0, 0, 0, 0.3));\n",
              "      fill: #FFFFFF;\n",
              "    }\n",
              "  </style>\n",
              "\n",
              "    <script>\n",
              "      const buttonEl =\n",
              "        document.querySelector('#df-2c05fd7a-3924-43df-9baf-0226d38dee35 button.colab-df-convert');\n",
              "      buttonEl.style.display =\n",
              "        google.colab.kernel.accessAllowed ? 'block' : 'none';\n",
              "\n",
              "      async function convertToInteractive(key) {\n",
              "        const element = document.querySelector('#df-2c05fd7a-3924-43df-9baf-0226d38dee35');\n",
              "        const dataTable =\n",
              "          await google.colab.kernel.invokeFunction('convertToInteractive',\n",
              "                                                    [key], {});\n",
              "        if (!dataTable) return;\n",
              "\n",
              "        const docLinkHtml = 'Like what you see? Visit the ' +\n",
              "          '<a target=\"_blank\" href=https://colab.research.google.com/notebooks/data_table.ipynb>data table notebook</a>'\n",
              "          + ' to learn more about interactive tables.';\n",
              "        element.innerHTML = '';\n",
              "        dataTable['output_type'] = 'display_data';\n",
              "        await google.colab.output.renderOutput(dataTable, element);\n",
              "        const docLink = document.createElement('div');\n",
              "        docLink.innerHTML = docLinkHtml;\n",
              "        element.appendChild(docLink);\n",
              "      }\n",
              "    </script>\n",
              "  </div>\n",
              "\n",
              "\n",
              "<div id=\"df-2a3d8d35-e388-45b0-82c9-2908bbd3fdd7\">\n",
              "  <button class=\"colab-df-quickchart\" onclick=\"quickchart('df-2a3d8d35-e388-45b0-82c9-2908bbd3fdd7')\"\n",
              "            title=\"Suggest charts\"\n",
              "            style=\"display:none;\">\n",
              "\n",
              "<svg xmlns=\"http://www.w3.org/2000/svg\" height=\"24px\"viewBox=\"0 0 24 24\"\n",
              "     width=\"24px\">\n",
              "    <g>\n",
              "        <path d=\"M19 3H5c-1.1 0-2 .9-2 2v14c0 1.1.9 2 2 2h14c1.1 0 2-.9 2-2V5c0-1.1-.9-2-2-2zM9 17H7v-7h2v7zm4 0h-2V7h2v10zm4 0h-2v-4h2v4z\"/>\n",
              "    </g>\n",
              "</svg>\n",
              "  </button>\n",
              "\n",
              "<style>\n",
              "  .colab-df-quickchart {\n",
              "      --bg-color: #E8F0FE;\n",
              "      --fill-color: #1967D2;\n",
              "      --hover-bg-color: #E2EBFA;\n",
              "      --hover-fill-color: #174EA6;\n",
              "      --disabled-fill-color: #AAA;\n",
              "      --disabled-bg-color: #DDD;\n",
              "  }\n",
              "\n",
              "  [theme=dark] .colab-df-quickchart {\n",
              "      --bg-color: #3B4455;\n",
              "      --fill-color: #D2E3FC;\n",
              "      --hover-bg-color: #434B5C;\n",
              "      --hover-fill-color: #FFFFFF;\n",
              "      --disabled-bg-color: #3B4455;\n",
              "      --disabled-fill-color: #666;\n",
              "  }\n",
              "\n",
              "  .colab-df-quickchart {\n",
              "    background-color: var(--bg-color);\n",
              "    border: none;\n",
              "    border-radius: 50%;\n",
              "    cursor: pointer;\n",
              "    display: none;\n",
              "    fill: var(--fill-color);\n",
              "    height: 32px;\n",
              "    padding: 0;\n",
              "    width: 32px;\n",
              "  }\n",
              "\n",
              "  .colab-df-quickchart:hover {\n",
              "    background-color: var(--hover-bg-color);\n",
              "    box-shadow: 0 1px 2px rgba(60, 64, 67, 0.3), 0 1px 3px 1px rgba(60, 64, 67, 0.15);\n",
              "    fill: var(--button-hover-fill-color);\n",
              "  }\n",
              "\n",
              "  .colab-df-quickchart-complete:disabled,\n",
              "  .colab-df-quickchart-complete:disabled:hover {\n",
              "    background-color: var(--disabled-bg-color);\n",
              "    fill: var(--disabled-fill-color);\n",
              "    box-shadow: none;\n",
              "  }\n",
              "\n",
              "  .colab-df-spinner {\n",
              "    border: 2px solid var(--fill-color);\n",
              "    border-color: transparent;\n",
              "    border-bottom-color: var(--fill-color);\n",
              "    animation:\n",
              "      spin 1s steps(1) infinite;\n",
              "  }\n",
              "\n",
              "  @keyframes spin {\n",
              "    0% {\n",
              "      border-color: transparent;\n",
              "      border-bottom-color: var(--fill-color);\n",
              "      border-left-color: var(--fill-color);\n",
              "    }\n",
              "    20% {\n",
              "      border-color: transparent;\n",
              "      border-left-color: var(--fill-color);\n",
              "      border-top-color: var(--fill-color);\n",
              "    }\n",
              "    30% {\n",
              "      border-color: transparent;\n",
              "      border-left-color: var(--fill-color);\n",
              "      border-top-color: var(--fill-color);\n",
              "      border-right-color: var(--fill-color);\n",
              "    }\n",
              "    40% {\n",
              "      border-color: transparent;\n",
              "      border-right-color: var(--fill-color);\n",
              "      border-top-color: var(--fill-color);\n",
              "    }\n",
              "    60% {\n",
              "      border-color: transparent;\n",
              "      border-right-color: var(--fill-color);\n",
              "    }\n",
              "    80% {\n",
              "      border-color: transparent;\n",
              "      border-right-color: var(--fill-color);\n",
              "      border-bottom-color: var(--fill-color);\n",
              "    }\n",
              "    90% {\n",
              "      border-color: transparent;\n",
              "      border-bottom-color: var(--fill-color);\n",
              "    }\n",
              "  }\n",
              "</style>\n",
              "\n",
              "  <script>\n",
              "    async function quickchart(key) {\n",
              "      const quickchartButtonEl =\n",
              "        document.querySelector('#' + key + ' button');\n",
              "      quickchartButtonEl.disabled = true;  // To prevent multiple clicks.\n",
              "      quickchartButtonEl.classList.add('colab-df-spinner');\n",
              "      try {\n",
              "        const charts = await google.colab.kernel.invokeFunction(\n",
              "            'suggestCharts', [key], {});\n",
              "      } catch (error) {\n",
              "        console.error('Error during call to suggestCharts:', error);\n",
              "      }\n",
              "      quickchartButtonEl.classList.remove('colab-df-spinner');\n",
              "      quickchartButtonEl.classList.add('colab-df-quickchart-complete');\n",
              "    }\n",
              "    (() => {\n",
              "      let quickchartButtonEl =\n",
              "        document.querySelector('#df-2a3d8d35-e388-45b0-82c9-2908bbd3fdd7 button');\n",
              "      quickchartButtonEl.style.display =\n",
              "        google.colab.kernel.accessAllowed ? 'block' : 'none';\n",
              "    })();\n",
              "  </script>\n",
              "</div>\n",
              "\n",
              "  <div id=\"id_d350bb00-69d5-42ea-9940-eac8bb3d1951\">\n",
              "    <style>\n",
              "      .colab-df-generate {\n",
              "        background-color: #E8F0FE;\n",
              "        border: none;\n",
              "        border-radius: 50%;\n",
              "        cursor: pointer;\n",
              "        display: none;\n",
              "        fill: #1967D2;\n",
              "        height: 32px;\n",
              "        padding: 0 0 0 0;\n",
              "        width: 32px;\n",
              "      }\n",
              "\n",
              "      .colab-df-generate:hover {\n",
              "        background-color: #E2EBFA;\n",
              "        box-shadow: 0px 1px 2px rgba(60, 64, 67, 0.3), 0px 1px 3px 1px rgba(60, 64, 67, 0.15);\n",
              "        fill: #174EA6;\n",
              "      }\n",
              "\n",
              "      [theme=dark] .colab-df-generate {\n",
              "        background-color: #3B4455;\n",
              "        fill: #D2E3FC;\n",
              "      }\n",
              "\n",
              "      [theme=dark] .colab-df-generate:hover {\n",
              "        background-color: #434B5C;\n",
              "        box-shadow: 0px 1px 3px 1px rgba(0, 0, 0, 0.15);\n",
              "        filter: drop-shadow(0px 1px 2px rgba(0, 0, 0, 0.3));\n",
              "        fill: #FFFFFF;\n",
              "      }\n",
              "    </style>\n",
              "    <button class=\"colab-df-generate\" onclick=\"generateWithVariable('df')\"\n",
              "            title=\"Generate code using this dataframe.\"\n",
              "            style=\"display:none;\">\n",
              "\n",
              "  <svg xmlns=\"http://www.w3.org/2000/svg\" height=\"24px\"viewBox=\"0 0 24 24\"\n",
              "       width=\"24px\">\n",
              "    <path d=\"M7,19H8.4L18.45,9,17,7.55,7,17.6ZM5,21V16.75L18.45,3.32a2,2,0,0,1,2.83,0l1.4,1.43a1.91,1.91,0,0,1,.58,1.4,1.91,1.91,0,0,1-.58,1.4L9.25,21ZM18.45,9,17,7.55Zm-12,3A5.31,5.31,0,0,0,4.9,8.1,5.31,5.31,0,0,0,1,6.5,5.31,5.31,0,0,0,4.9,4.9,5.31,5.31,0,0,0,6.5,1,5.31,5.31,0,0,0,8.1,4.9,5.31,5.31,0,0,0,12,6.5,5.46,5.46,0,0,0,6.5,12Z\"/>\n",
              "  </svg>\n",
              "    </button>\n",
              "    <script>\n",
              "      (() => {\n",
              "      const buttonEl =\n",
              "        document.querySelector('#id_d350bb00-69d5-42ea-9940-eac8bb3d1951 button.colab-df-generate');\n",
              "      buttonEl.style.display =\n",
              "        google.colab.kernel.accessAllowed ? 'block' : 'none';\n",
              "\n",
              "      buttonEl.onclick = () => {\n",
              "        google.colab.notebook.generateWithVariable('df');\n",
              "      }\n",
              "      })();\n",
              "    </script>\n",
              "  </div>\n",
              "\n",
              "    </div>\n",
              "  </div>\n"
            ],
            "application/vnd.google.colaboratory.intrinsic+json": {
              "type": "dataframe",
              "variable_name": "df",
              "summary": "{\n  \"name\": \"df\",\n  \"rows\": 3,\n  \"fields\": [\n    {\n      \"column\": \"Titulo\",\n      \"properties\": {\n        \"dtype\": \"string\",\n        \"num_unique_values\": 3,\n        \"samples\": [\n          \"Opera\\u00e7\\u00e3o do sistema de controle clim\\u00e1tico\",\n          \"Touchscreen\",\n          \"Mudan\\u00e7a de marchas\"\n        ],\n        \"semantic_type\": \"\",\n        \"description\": \"\"\n      }\n    },\n    {\n      \"column\": \"Conteudo\",\n      \"properties\": {\n        \"dtype\": \"string\",\n        \"num_unique_values\": 3,\n        \"samples\": [\n          \"O Googlecar tem um sistema de controle clim\\u00e1tico que permite ajustar a temperatura e o fluxo de ar no carro. Para operar o sistema de controle clim\\u00e1tico, use os bot\\u00f5es e bot\\u00f5es localizados no console central.  Temperatura: O bot\\u00e3o de temperatura controla a temperatura dentro do carro. Gire o bot\\u00e3o no sentido hor\\u00e1rio para aumentar a temperatura ou no sentido anti-hor\\u00e1rio para diminuir a temperatura. Fluxo de ar: O bot\\u00e3o de fluxo de ar controla a quantidade de fluxo de ar dentro do carro. Gire o bot\\u00e3o no sentido hor\\u00e1rio para aumentar o fluxo de ar ou no sentido anti-hor\\u00e1rio para diminuir o fluxo de ar. Velocidade do ventilador: O bot\\u00e3o de velocidade do ventilador controla a velocidade do ventilador. Gire o bot\\u00e3o no sentido hor\\u00e1rio para aumentar a velocidade do ventilador ou no sentido anti-hor\\u00e1rio para diminuir a velocidade do ventilador. Modo: O bot\\u00e3o de modo permite que voc\\u00ea selecione o modo desejado. Os modos dispon\\u00edveis s\\u00e3o: Auto: O carro ajustar\\u00e1 automaticamente a temperatura e o fluxo de ar para manter um n\\u00edvel confort\\u00e1vel. Cool (Frio): O carro soprar\\u00e1 ar frio para dentro do carro. Heat: O carro soprar\\u00e1 ar quente para dentro do carro. Defrost (Descongelamento): O carro soprar\\u00e1 ar quente no para-brisa para descongel\\u00e1-lo.\",\n          \"O seu Googlecar tem uma grande tela sens\\u00edvel ao toque que fornece acesso a uma variedade de recursos, incluindo navega\\u00e7\\u00e3o, entretenimento e controle clim\\u00e1tico. Para usar a tela sens\\u00edvel ao toque, basta tocar no \\u00edcone desejado.  Por exemplo, voc\\u00ea pode tocar no \\u00edcone \\\"Navigation\\\" (Navega\\u00e7\\u00e3o) para obter dire\\u00e7\\u00f5es para o seu destino ou tocar no \\u00edcone \\\"Music\\\" (M\\u00fasica) para reproduzir suas m\\u00fasicas favoritas.\",\n          \"Seu Googlecar tem uma transmiss\\u00e3o autom\\u00e1tica. Para trocar as marchas, basta mover a alavanca de c\\u00e2mbio para a posi\\u00e7\\u00e3o desejada.  Park (Estacionar): Essa posi\\u00e7\\u00e3o \\u00e9 usada quando voc\\u00ea est\\u00e1 estacionado. As rodas s\\u00e3o travadas e o carro n\\u00e3o pode se mover. Marcha \\u00e0 r\\u00e9: Essa posi\\u00e7\\u00e3o \\u00e9 usada para dar r\\u00e9. Neutro: Essa posi\\u00e7\\u00e3o \\u00e9 usada quando voc\\u00ea est\\u00e1 parado em um sem\\u00e1foro ou no tr\\u00e2nsito. O carro n\\u00e3o est\\u00e1 em marcha e n\\u00e3o se mover\\u00e1 a menos que voc\\u00ea pressione o pedal do acelerador. Drive (Dirigir): Essa posi\\u00e7\\u00e3o \\u00e9 usada para dirigir para frente. Low: essa posi\\u00e7\\u00e3o \\u00e9 usada para dirigir na neve ou em outras condi\\u00e7\\u00f5es escorregadias.\"\n        ],\n        \"semantic_type\": \"\",\n        \"description\": \"\"\n      }\n    },\n    {\n      \"column\": \"Embeddings\",\n      \"properties\": {\n        \"dtype\": \"object\",\n        \"semantic_type\": \"\",\n        \"description\": \"\"\n      }\n    }\n  ]\n}"
            }
          },
          "metadata": {},
          "execution_count": 59
        }
      ]
    },
    {
      "cell_type": "code",
      "source": [
        "def gerar_e_buscar_consulta(consulta, base, model):\n",
        "   embedding_da_consulta = genai.embed_content(model=model,\n",
        "                                 content=consulta,\n",
        "                                 task_type=\"RETRIEVAL_QUERY\")[\"embedding\"]\n",
        "\n",
        "   produtos_escalares = np.dot(np.stack(df[\"Embeddings\"]), embedding_da_consulta)\n",
        "\n",
        "   indice = np.argmax(produtos_escalares)\n",
        "   return df.iloc[indice][\"Conteudo\"]"
      ],
      "metadata": {
        "id": "xafyoVIb61VP"
      },
      "execution_count": null,
      "outputs": []
    },
    {
      "cell_type": "code",
      "source": [
        "consulta = \"Como faço para trocar marchas em um carro do Google?\"\n",
        "\n",
        "trecho = gerar_e_buscar_consulta(consulta, df, model)\n",
        "print(trecho)"
      ],
      "metadata": {
        "colab": {
          "base_uri": "https://localhost:8080/",
          "height": 54
        },
        "id": "KBj_mJNkETv5",
        "outputId": "8e4b6aa9-4b16-4985-e08d-6e4c540b76b5"
      },
      "execution_count": null,
      "outputs": [
        {
          "output_type": "stream",
          "name": "stdout",
          "text": [
            "Seu Googlecar tem uma transmissão automática. Para trocar as marchas, basta mover a alavanca de câmbio para a posição desejada.  Park (Estacionar): Essa posição é usada quando você está estacionado. As rodas são travadas e o carro não pode se mover. Marcha à ré: Essa posição é usada para dar ré. Neutro: Essa posição é usada quando você está parado em um semáforo ou no trânsito. O carro não está em marcha e não se moverá a menos que você pressione o pedal do acelerador. Drive (Dirigir): Essa posição é usada para dirigir para frente. Low: essa posição é usada para dirigir na neve ou em outras condições escorregadias.\n"
          ]
        }
      ]
    },
    {
      "cell_type": "code",
      "source": [
        "generation_config = {\n",
        "  \"temperature\": 0,\n",
        "  \"candidate_count\": 1\n",
        "}"
      ],
      "metadata": {
        "id": "otQOLBppGZlC"
      },
      "execution_count": null,
      "outputs": []
    },
    {
      "cell_type": "code",
      "source": [
        "prompt = f\"Reescreva esse texto de uma forma mais descontraída, sem adicionar informações que não façam parte do texto: {trecho}\"\n",
        "\n",
        "model_2 = genai.GenerativeModel(\"gemini-1.0-pro\",\n",
        "                                generation_config=generation_config)\n",
        "response = model_2.generate_content(prompt)\n",
        "print(response.text)"
      ],
      "metadata": {
        "id": "hudYArVyGdFn",
        "outputId": "6c64a9e4-05d2-41d5-bb24-151c24703f9d",
        "colab": {
          "base_uri": "https://localhost:8080/",
          "height": 173
        }
      },
      "execution_count": null,
      "outputs": [
        {
          "output_type": "stream",
          "name": "stdout",
          "text": [
            "**Guia do Googlecar para Descolados**\n",
            "\n",
            "Seu Googlecar é tipo um carro automático maneiro. Pra trocar as marchas, é só dar um toque na alavanca e escolher o que você quer:\n",
            "\n",
            "* **Estacionar:** Quando você tá parado e quer que o carro fique quietinho. As rodas ficam travadas e ele não mexe nem um centímetro.\n",
            "* **Ré:** Pra dar aquela ré maneirinha.\n",
            "* **Neutro:** Quando você tá parado no farol ou no trânsito. O carro tá desligado e não vai se mexer até você pisar no acelerador.\n",
            "* **Dirigir:** Pra acelerar pra frente.\n",
            "* **Baixa:** Pra quando você tá dirigindo na neve ou em lugares escorregadios.\n"
          ]
        }
      ]
    }
  ]
}